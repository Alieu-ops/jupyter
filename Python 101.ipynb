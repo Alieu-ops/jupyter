{
 "cells": [
  {
   "cell_type": "code",
   "execution_count": 18,
   "id": "39915922",
   "metadata": {},
   "outputs": [],
   "source": [
    "name='Alieu'"
   ]
  },
  {
   "cell_type": "code",
   "execution_count": 16,
   "id": "cd9a7016",
   "metadata": {},
   "outputs": [],
   "source": [
    "age=25"
   ]
  },
  {
   "cell_type": "code",
   "execution_count": 17,
   "id": "809603a9",
   "metadata": {},
   "outputs": [],
   "source": [
    "is_new=True"
   ]
  },
  {
   "cell_type": "code",
   "execution_count": 25,
   "id": "f5d67228",
   "metadata": {},
   "outputs": [
    {
     "name": "stdout",
     "output_type": "stream",
     "text": [
      "what is your name Alieu\n",
      "hi + name\n"
     ]
    }
   ],
   "source": [
    "name=input('what is your name ' )\n"
   ]
  },
  {
   "cell_type": "code",
   "execution_count": 26,
   "id": "88d6b0b9",
   "metadata": {},
   "outputs": [
    {
     "name": "stdout",
     "output_type": "stream",
     "text": [
      "hi + name \n"
     ]
    }
   ],
   "source": [
    "print('hi + name ')"
   ]
  },
  {
   "cell_type": "code",
   "execution_count": null,
   "id": "117fa984",
   "metadata": {},
   "outputs": [],
   "source": []
  }
 ],
 "metadata": {
  "kernelspec": {
   "display_name": "Python 3 (ipykernel)",
   "language": "python",
   "name": "python3"
  },
  "language_info": {
   "codemirror_mode": {
    "name": "ipython",
    "version": 3
   },
   "file_extension": ".py",
   "mimetype": "text/x-python",
   "name": "python",
   "nbconvert_exporter": "python",
   "pygments_lexer": "ipython3",
   "version": "3.9.7"
  }
 },
 "nbformat": 4,
 "nbformat_minor": 5
}
