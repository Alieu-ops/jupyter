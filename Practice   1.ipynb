{
 "cells": [
  {
   "cell_type": "code",
   "execution_count": 15,
   "id": "85c60df5",
   "metadata": {},
   "outputs": [],
   "source": [
    "age = 26"
   ]
  },
  {
   "cell_type": "code",
   "execution_count": 19,
   "id": "66722364",
   "metadata": {
    "scrolled": false
   },
   "outputs": [
    {
     "name": "stdout",
     "output_type": "stream",
     "text": [
      "Alieu\n"
     ]
    }
   ],
   "source": [
    "name = \"Alieu\"\n",
    "age = 25\n",
    "h = 1.4\n",
    "print(name)"
   ]
  },
  {
   "cell_type": "code",
   "execution_count": null,
   "id": "056f636a",
   "metadata": {},
   "outputs": [],
   "source": []
  },
  {
   "cell_type": "code",
   "execution_count": 16,
   "id": "07b7352b",
   "metadata": {},
   "outputs": [
    {
     "data": {
      "text/plain": [
       "26"
      ]
     },
     "execution_count": 16,
     "metadata": {},
     "output_type": "execute_result"
    }
   ],
   "source": [
    "age"
   ]
  },
  {
   "cell_type": "code",
   "execution_count": 22,
   "id": "37e430ad",
   "metadata": {},
   "outputs": [
    {
     "name": "stdout",
     "output_type": "stream",
     "text": [
      "25\n",
      "Alieu\n"
     ]
    },
    {
     "data": {
      "text/plain": [
       "1.4"
      ]
     },
     "execution_count": 22,
     "metadata": {},
     "output_type": "execute_result"
    }
   ],
   "source": [
    "print(age)\n",
    "print(name)\n",
    "h"
   ]
  },
  {
   "cell_type": "code",
   "execution_count": 23,
   "id": "3f81ce17",
   "metadata": {},
   "outputs": [],
   "source": [
    "#Import libarary\n",
    "import os #\n",
    "import numpy as np"
   ]
  },
  {
   "cell_type": "code",
   "execution_count": 24,
   "id": "e075162f",
   "metadata": {},
   "outputs": [
    {
     "data": {
      "text/plain": [
       "array([ 1,  2, 34, 46, 89])"
      ]
     },
     "execution_count": 24,
     "metadata": {},
     "output_type": "execute_result"
    }
   ],
   "source": [
    "#  create an array\n",
    "a = np.array([1,2,34,46,89]) \n",
    "a"
   ]
  },
  {
   "cell_type": "code",
   "execution_count": 28,
   "id": "b69a58e3",
   "metadata": {
    "scrolled": true
   },
   "outputs": [
    {
     "data": {
      "text/plain": [
       "numpy.ndarray"
      ]
     },
     "execution_count": 28,
     "metadata": {},
     "output_type": "execute_result"
    }
   ],
   "source": [
    "type(a)"
   ]
  },
  {
   "cell_type": "code",
   "execution_count": 27,
   "id": "de5981eb",
   "metadata": {},
   "outputs": [
    {
     "data": {
      "text/plain": [
       "(5,)"
      ]
     },
     "execution_count": 27,
     "metadata": {},
     "output_type": "execute_result"
    }
   ],
   "source": [
    "# number of  elements\n",
    "a.shape"
   ]
  },
  {
   "cell_type": "code",
   "execution_count": 30,
   "id": "c8f495d5",
   "metadata": {},
   "outputs": [
    {
     "data": {
      "text/plain": [
       "89"
      ]
     },
     "execution_count": 30,
     "metadata": {},
     "output_type": "execute_result"
    }
   ],
   "source": [
    "# indexing\n",
    "a[4]"
   ]
  },
  {
   "cell_type": "code",
   "execution_count": 33,
   "id": "d86d3017",
   "metadata": {},
   "outputs": [
    {
     "name": "stdout",
     "output_type": "stream",
     "text": [
      "index 5 is out of bounds for axis 0 with size 5\n"
     ]
    }
   ],
   "source": [
    "#  by pass error message\n",
    "try:\n",
    "    a[5]\n",
    "except IndexError as e:\n",
    "    print(e)"
   ]
  },
  {
   "cell_type": "code",
   "execution_count": 34,
   "id": "dbca8adf",
   "metadata": {},
   "outputs": [
    {
     "data": {
      "text/plain": [
       "array([ 1,  2, 34, 10, 89])"
      ]
     },
     "execution_count": 34,
     "metadata": {},
     "output_type": "execute_result"
    }
   ],
   "source": [
    "# changing elements of an array\n",
    "a[3] = 10\n",
    "a"
   ]
  },
  {
   "cell_type": "code",
   "execution_count": 44,
   "id": "bb1a4311",
   "metadata": {},
   "outputs": [
    {
     "data": {
      "text/plain": [
       "(2, 3)"
      ]
     },
     "execution_count": 44,
     "metadata": {},
     "output_type": "execute_result"
    }
   ],
   "source": [
    "b = np.array([[1,2,3], [3,5,7]])\n",
    "b\n",
    "type(b)\n",
    "b.shape"
   ]
  },
  {
   "cell_type": "code",
   "execution_count": 46,
   "id": "4b8e6e06",
   "metadata": {},
   "outputs": [
    {
     "data": {
      "text/plain": [
       "array([[ 1,  2,  3],\n",
       "       [ 3,  5,  7],\n",
       "       [ 1, 20, 30]])"
      ]
     },
     "execution_count": 46,
     "metadata": {},
     "output_type": "execute_result"
    }
   ],
   "source": [
    "b = np.array([[1,2,3], [3,5,7], [1,20,30]])\n",
    "b\n",
    "type(b)\n",
    "b.shape\n",
    "b"
   ]
  },
  {
   "cell_type": "code",
   "execution_count": 48,
   "id": "5f8659a2",
   "metadata": {},
   "outputs": [
    {
     "data": {
      "text/plain": [
       "array([ 1,  2,  3,  3,  5,  7,  1, 20, 30])"
      ]
     },
     "execution_count": 48,
     "metadata": {},
     "output_type": "execute_result"
    }
   ],
   "source": [
    "# flatten\n",
    "c = np.hstack(b)\n",
    "c"
   ]
  },
  {
   "cell_type": "code",
   "execution_count": 55,
   "id": "7bb4fbb1",
   "metadata": {
    "scrolled": true
   },
   "outputs": [
    {
     "data": {
      "text/plain": [
       "array([[13, 13],\n",
       "       [13, 13],\n",
       "       [13, 13],\n",
       "       [13, 13]])"
      ]
     },
     "execution_count": 55,
     "metadata": {},
     "output_type": "execute_result"
    }
   ],
   "source": [
    "#  matrix auto generate\n",
    "np.zeros((4,2))\n",
    "np.ones((4,2))\n",
    "np.full((4,2), 13)"
   ]
  },
  {
   "cell_type": "code",
   "execution_count": 71,
   "id": "fc1c1d17",
   "metadata": {
    "scrolled": true
   },
   "outputs": [
    {
     "ename": "TypeError",
     "evalue": "random() got an unexpected keyword argument 'dtype'",
     "output_type": "error",
     "traceback": [
      "\u001b[1;31m---------------------------------------------------------------------------\u001b[0m",
      "\u001b[1;31mTypeError\u001b[0m                                 Traceback (most recent call last)",
      "\u001b[1;32mC:\\Users\\PC3~1\\AppData\\Local\\Temp/ipykernel_3920/383944273.py\u001b[0m in \u001b[0;36m<module>\u001b[1;34m\u001b[0m\n\u001b[0;32m      1\u001b[0m \u001b[1;31m# generate random numbers\u001b[0m\u001b[1;33m\u001b[0m\u001b[1;33m\u001b[0m\u001b[0m\n\u001b[1;32m----> 2\u001b[1;33m \u001b[0mnp\u001b[0m\u001b[1;33m.\u001b[0m\u001b[0mrandom\u001b[0m\u001b[1;33m.\u001b[0m\u001b[0mrandom\u001b[0m\u001b[1;33m(\u001b[0m\u001b[1;33m(\u001b[0m\u001b[1;36m4\u001b[0m\u001b[1;33m,\u001b[0m\u001b[1;36m4\u001b[0m\u001b[1;33m)\u001b[0m\u001b[1;33m,\u001b[0m \u001b[0mdtype\u001b[0m \u001b[1;33m=\u001b[0m \u001b[0mint\u001b[0m\u001b[1;33m)\u001b[0m\u001b[1;33m*\u001b[0m\u001b[1;36m5\u001b[0m\u001b[1;33m\u001b[0m\u001b[1;33m\u001b[0m\u001b[0m\n\u001b[0m",
      "\u001b[1;32mmtrand.pyx\u001b[0m in \u001b[0;36mnumpy.random.mtrand.RandomState.random\u001b[1;34m()\u001b[0m\n",
      "\u001b[1;31mTypeError\u001b[0m: random() got an unexpected keyword argument 'dtype'"
     ]
    }
   ],
   "source": [
    "# generate random numbers\n",
    "np.random.random((4,4))*5"
   ]
  },
  {
   "cell_type": "code",
   "execution_count": 63,
   "id": "54a864e2",
   "metadata": {},
   "outputs": [
    {
     "data": {
      "text/plain": [
       "array([ 1.,  2., 34.])"
      ]
     },
     "execution_count": 63,
     "metadata": {},
     "output_type": "execute_result"
    }
   ],
   "source": [
    "# from a list to an array & change the data type\n",
    "a_list = [1,2,34]\n",
    "a_list\n",
    "d = np.array(a_list, dtype = float)\n",
    "d"
   ]
  },
  {
   "cell_type": "code",
   "execution_count": 70,
   "id": "0af304a3",
   "metadata": {},
   "outputs": [
    {
     "data": {
      "text/plain": [
       "array([ 0.,  1.,  2.,  3.,  4.,  5.,  6.,  7.,  8.,  9., 10., 11., 12.,\n",
       "       13., 14., 15., 16., 17., 18., 19., 20., 21., 22., 23., 24., 25.,\n",
       "       26., 27., 28., 29., 30., 31., 32., 33., 34., 35., 36., 37., 38.,\n",
       "       39., 40., 41., 42., 43., 44., 45., 46., 47., 48., 49.])"
      ]
     },
     "execution_count": 70,
     "metadata": {},
     "output_type": "execute_result"
    }
   ],
   "source": [
    "# appending arrays\n",
    "a = np.array([])\n",
    "for i in range(50):\n",
    "    a = np.append(a,i)\n",
    "a"
   ]
  },
  {
   "cell_type": "code",
   "execution_count": 77,
   "id": "7a02b443",
   "metadata": {},
   "outputs": [
    {
     "data": {
      "text/plain": [
       "array([[91., 24., 93., 20.],\n",
       "       [18., 29.,  3., 43.],\n",
       "       [90., 95., 46., 55.],\n",
       "       [21., 20., 46., 32.]])"
      ]
     },
     "execution_count": 77,
     "metadata": {},
     "output_type": "execute_result"
    }
   ],
   "source": [
    "g = np.random.random((4,4))*100\n",
    "g = g.round(0)\n",
    "g"
   ]
  },
  {
   "cell_type": "code",
   "execution_count": 79,
   "id": "a8c82049",
   "metadata": {},
   "outputs": [
    {
     "data": {
      "text/plain": [
       "20.0"
      ]
     },
     "execution_count": 79,
     "metadata": {},
     "output_type": "execute_result"
    }
   ],
   "source": [
    "# Locating elements\n",
    "g[1,3]\n",
    "g[3,1]"
   ]
  },
  {
   "cell_type": "code",
   "execution_count": null,
   "id": "f8cf0364",
   "metadata": {},
   "outputs": [],
   "source": [
    " a = np.array()"
   ]
  }
 ],
 "metadata": {
  "kernelspec": {
   "display_name": "Python 3 (ipykernel)",
   "language": "python",
   "name": "python3"
  },
  "language_info": {
   "codemirror_mode": {
    "name": "ipython",
    "version": 3
   },
   "file_extension": ".py",
   "mimetype": "text/x-python",
   "name": "python",
   "nbconvert_exporter": "python",
   "pygments_lexer": "ipython3",
   "version": "3.9.7"
  }
 },
 "nbformat": 4,
 "nbformat_minor": 5
}
